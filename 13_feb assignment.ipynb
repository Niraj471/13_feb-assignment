{
 "cells": [
  {
   "cell_type": "code",
   "execution_count": 1,
   "id": "56a9848d-8102-4d55-8eb7-8d79be26d9c5",
   "metadata": {},
   "outputs": [],
   "source": [
    "##Q1.)\n",
    "\n",
    "##Ans.Custom exceptions provide you the flexibility to add attributes and methods that are not part of a standard Java exception. These can store additional information, like an application-specific error code, or provide utility methods that can be used to handle or present the exception to a user."
   ]
  },
  {
   "cell_type": "code",
   "execution_count": 2,
   "id": "fe350d12-1405-44e6-828f-3402ff129360",
   "metadata": {},
   "outputs": [],
   "source": [
    "##Q3.)\n",
    "\n",
    "##Ans.The arithmetic error occurs when an error is encountered during numeric calculations in Python. This includes Zerodivision Error and Floating point error. In addition, zero division error is raised when you divide a numeric value by zero. When we run this code, we will get a ZeroDivision error."
   ]
  },
  {
   "cell_type": "code",
   "execution_count": 3,
   "id": "7c5c1df6-81f8-4f27-8018-8794bd757adb",
   "metadata": {},
   "outputs": [],
   "source": [
    "##Q4.)\n",
    "\n",
    "##Ans.The LookupError exception in Python forms the base class for all exceptions that are raised when an index or a key is not found for a sequence or dictionary respectively.\n",
    "     ##You can use LookupError exception class to handle both IndexError and KeyError exception classes."
   ]
  },
  {
   "cell_type": "code",
   "execution_count": 4,
   "id": "4947afc3-3430-4806-9eec-c324d5f7ef20",
   "metadata": {},
   "outputs": [],
   "source": [
    "##Q5.)\n",
    "\n",
    "##Ans.Python's ImportError ( ModuleNotFoundError ) indicates that you tried to import a module that Python doesn't find. It can usually be eliminated by adding a file named __init__.py to the directory and then adding this directory to $PYTHONPATH ."
   ]
  },
  {
   "cell_type": "code",
   "execution_count": 5,
   "id": "1bcef973-294d-40d1-9d5d-bb487361bcb9",
   "metadata": {},
   "outputs": [],
   "source": [
    "##Q6.)\n",
    "\n",
    "##Ans. Following are some best practices in exception handling:\n",
    "\n",
    "##1.Always use a specific exception\n",
    "##2.Always try to logg the error in a file\n",
    "##3.Always avoid to write a multiple exception handling\n",
    "##4.Document all the error and cleanup all the resources\n"
   ]
  },
  {
   "cell_type": "code",
   "execution_count": null,
   "id": "bdc389d1-dcf3-4ba6-be7e-110450b367fb",
   "metadata": {},
   "outputs": [],
   "source": []
  }
 ],
 "metadata": {
  "kernelspec": {
   "display_name": "Python 3 (ipykernel)",
   "language": "python",
   "name": "python3"
  },
  "language_info": {
   "codemirror_mode": {
    "name": "ipython",
    "version": 3
   },
   "file_extension": ".py",
   "mimetype": "text/x-python",
   "name": "python",
   "nbconvert_exporter": "python",
   "pygments_lexer": "ipython3",
   "version": "3.10.8"
  }
 },
 "nbformat": 4,
 "nbformat_minor": 5
}
